{
 "cells": [
  {
   "cell_type": "code",
   "execution_count": 95,
   "metadata": {},
   "outputs": [],
   "source": [
    "import pandas as pd\n",
    "import numpy as np\n",
    "import matplotlib.pyplot as plt\n",
    "import seaborn as sns\n",
    "from urllib.parse import urlparse\n",
    "%matplotlib inline"
   ]
  },
  {
   "cell_type": "code",
   "execution_count": 96,
   "metadata": {},
   "outputs": [],
   "source": [
    "df = pd.read_csv(\"C:\\\\Users\\\\ASUS\\\\Documents\\\\Data Analysis\\\\BangaloreZomato.csv\")"
   ]
  },
  {
   "cell_type": "code",
   "execution_count": 97,
   "metadata": {},
   "outputs": [
    {
     "data": {
      "text/html": [
       "<div>\n",
       "<style scoped>\n",
       "    .dataframe tbody tr th:only-of-type {\n",
       "        vertical-align: middle;\n",
       "    }\n",
       "\n",
       "    .dataframe tbody tr th {\n",
       "        vertical-align: top;\n",
       "    }\n",
       "\n",
       "    .dataframe thead th {\n",
       "        text-align: right;\n",
       "    }\n",
       "</style>\n",
       "<table border=\"1\" class=\"dataframe\">\n",
       "  <thead>\n",
       "    <tr style=\"text-align: right;\">\n",
       "      <th></th>\n",
       "      <th>S.No.</th>\n",
       "      <th>Name</th>\n",
       "      <th>Address</th>\n",
       "      <th>Phone</th>\n",
       "      <th>Location</th>\n",
       "      <th>Rating</th>\n",
       "      <th>Review</th>\n",
       "    </tr>\n",
       "  </thead>\n",
       "  <tbody>\n",
       "    <tr>\n",
       "      <th>0</th>\n",
       "      <td>1</td>\n",
       "      <td>Aubree</td>\n",
       "      <td>307 Govinda Chetty Colony Thimmaiah Road Shiva...</td>\n",
       "      <td>9.190000e+11</td>\n",
       "      <td>shivajinagar</td>\n",
       "      <td>2.5</td>\n",
       "      <td>20</td>\n",
       "    </tr>\n",
       "    <tr>\n",
       "      <th>1</th>\n",
       "      <td>2</td>\n",
       "      <td>Uttam Sagar</td>\n",
       "      <td>80 Feet Road Cross Near Banaswadi Main Road Ba...</td>\n",
       "      <td>9.180000e+11</td>\n",
       "      <td>banaswadi</td>\n",
       "      <td>2.6</td>\n",
       "      <td>115</td>\n",
       "    </tr>\n",
       "    <tr>\n",
       "      <th>2</th>\n",
       "      <td>3</td>\n",
       "      <td>Gopaljee Cafe</td>\n",
       "      <td>226 Someshawara Temple Road Koramangala 7th Bl...</td>\n",
       "      <td>9.190000e+11</td>\n",
       "      <td>koramangala</td>\n",
       "      <td>3.8</td>\n",
       "      <td>69</td>\n",
       "    </tr>\n",
       "    <tr>\n",
       "      <th>3</th>\n",
       "      <td>4</td>\n",
       "      <td>Third Wave Coffee</td>\n",
       "      <td>13 Old 4/1 Ground Floor Near Walton Road Lavel...</td>\n",
       "      <td>9.200000e+11</td>\n",
       "      <td>lavelleroad</td>\n",
       "      <td>3.9</td>\n",
       "      <td>144</td>\n",
       "    </tr>\n",
       "    <tr>\n",
       "      <th>4</th>\n",
       "      <td>5</td>\n",
       "      <td>ibaco</td>\n",
       "      <td>121 Civil Station Wood Street Junction Brigade...</td>\n",
       "      <td>9.180000e+11</td>\n",
       "      <td>brigade road</td>\n",
       "      <td>3.8</td>\n",
       "      <td>107</td>\n",
       "    </tr>\n",
       "  </tbody>\n",
       "</table>\n",
       "</div>"
      ],
      "text/plain": [
       "   S.No.               Name  \\\n",
       "0      1             Aubree   \n",
       "1      2        Uttam Sagar   \n",
       "2      3      Gopaljee Cafe   \n",
       "3      4  Third Wave Coffee   \n",
       "4      5              ibaco   \n",
       "\n",
       "                                             Address         Phone  \\\n",
       "0  307 Govinda Chetty Colony Thimmaiah Road Shiva...  9.190000e+11   \n",
       "1  80 Feet Road Cross Near Banaswadi Main Road Ba...  9.180000e+11   \n",
       "2  226 Someshawara Temple Road Koramangala 7th Bl...  9.190000e+11   \n",
       "3  13 Old 4/1 Ground Floor Near Walton Road Lavel...  9.200000e+11   \n",
       "4  121 Civil Station Wood Street Junction Brigade...  9.180000e+11   \n",
       "\n",
       "       Location  Rating  Review  \n",
       "0  shivajinagar     2.5      20  \n",
       "1     banaswadi     2.6     115  \n",
       "2   koramangala     3.8      69  \n",
       "3   lavelleroad     3.9     144  \n",
       "4  brigade road     3.8     107  "
      ]
     },
     "execution_count": 97,
     "metadata": {},
     "output_type": "execute_result"
    }
   ],
   "source": [
    "df.head()"
   ]
  },
  {
   "cell_type": "code",
   "execution_count": 98,
   "metadata": {},
   "outputs": [
    {
     "data": {
      "text/plain": [
       "(119, 7)"
      ]
     },
     "execution_count": 98,
     "metadata": {},
     "output_type": "execute_result"
    }
   ],
   "source": [
    "# Now we need to remove duplicates :\n",
    "df.drop_duplicates(inplace = True)\n",
    "df.shape"
   ]
  },
  {
   "cell_type": "code",
   "execution_count": 99,
   "metadata": {},
   "outputs": [
    {
     "name": "stdout",
     "output_type": "stream",
     "text": [
      "<class 'pandas.core.frame.DataFrame'>\n",
      "Int64Index: 119 entries, 0 to 118\n",
      "Data columns (total 7 columns):\n",
      " #   Column    Non-Null Count  Dtype  \n",
      "---  ------    --------------  -----  \n",
      " 0   S.No.     119 non-null    int64  \n",
      " 1   Name      119 non-null    object \n",
      " 2   Address   119 non-null    object \n",
      " 3   Phone     119 non-null    float64\n",
      " 4   Location  119 non-null    object \n",
      " 5   Rating    84 non-null     float64\n",
      " 6   Review    119 non-null    int64  \n",
      "dtypes: float64(2), int64(2), object(3)\n",
      "memory usage: 7.4+ KB\n"
     ]
    }
   ],
   "source": [
    "df.info()"
   ]
  },
  {
   "cell_type": "code",
   "execution_count": 100,
   "metadata": {},
   "outputs": [],
   "source": [
    "df = df.drop(['S.No.','Phone','Address'],axis=1)"
   ]
  },
  {
   "cell_type": "code",
   "execution_count": 101,
   "metadata": {},
   "outputs": [
    {
     "data": {
      "text/html": [
       "<div>\n",
       "<style scoped>\n",
       "    .dataframe tbody tr th:only-of-type {\n",
       "        vertical-align: middle;\n",
       "    }\n",
       "\n",
       "    .dataframe tbody tr th {\n",
       "        vertical-align: top;\n",
       "    }\n",
       "\n",
       "    .dataframe thead th {\n",
       "        text-align: right;\n",
       "    }\n",
       "</style>\n",
       "<table border=\"1\" class=\"dataframe\">\n",
       "  <thead>\n",
       "    <tr style=\"text-align: right;\">\n",
       "      <th></th>\n",
       "      <th>Name</th>\n",
       "      <th>Location</th>\n",
       "      <th>Rating</th>\n",
       "      <th>Review</th>\n",
       "    </tr>\n",
       "  </thead>\n",
       "  <tbody>\n",
       "    <tr>\n",
       "      <th>0</th>\n",
       "      <td>Aubree</td>\n",
       "      <td>shivajinagar</td>\n",
       "      <td>2.5</td>\n",
       "      <td>20</td>\n",
       "    </tr>\n",
       "    <tr>\n",
       "      <th>1</th>\n",
       "      <td>Uttam Sagar</td>\n",
       "      <td>banaswadi</td>\n",
       "      <td>2.6</td>\n",
       "      <td>115</td>\n",
       "    </tr>\n",
       "    <tr>\n",
       "      <th>2</th>\n",
       "      <td>Gopaljee Cafe</td>\n",
       "      <td>koramangala</td>\n",
       "      <td>3.8</td>\n",
       "      <td>69</td>\n",
       "    </tr>\n",
       "    <tr>\n",
       "      <th>3</th>\n",
       "      <td>Third Wave Coffee</td>\n",
       "      <td>lavelleroad</td>\n",
       "      <td>3.9</td>\n",
       "      <td>144</td>\n",
       "    </tr>\n",
       "    <tr>\n",
       "      <th>4</th>\n",
       "      <td>ibaco</td>\n",
       "      <td>brigade road</td>\n",
       "      <td>3.8</td>\n",
       "      <td>107</td>\n",
       "    </tr>\n",
       "  </tbody>\n",
       "</table>\n",
       "</div>"
      ],
      "text/plain": [
       "                Name      Location  Rating  Review\n",
       "0             Aubree  shivajinagar     2.5      20\n",
       "1        Uttam Sagar     banaswadi     2.6     115\n",
       "2      Gopaljee Cafe   koramangala     3.8      69\n",
       "3  Third Wave Coffee   lavelleroad     3.9     144\n",
       "4              ibaco  brigade road     3.8     107"
      ]
     },
     "execution_count": 101,
     "metadata": {},
     "output_type": "execute_result"
    }
   ],
   "source": [
    "# as we can see, we got rid of duplicates and not so important features :\n",
    "df.head()"
   ]
  },
  {
   "cell_type": "code",
   "execution_count": 102,
   "metadata": {},
   "outputs": [],
   "source": [
    "# Now we need to rename the column names as given below :\n",
    "df.rename(columns={'Name': 'RestaurentNames'}, inplace =True)"
   ]
  },
  {
   "cell_type": "code",
   "execution_count": 103,
   "metadata": {},
   "outputs": [
    {
     "data": {
      "text/html": [
       "<div>\n",
       "<style scoped>\n",
       "    .dataframe tbody tr th:only-of-type {\n",
       "        vertical-align: middle;\n",
       "    }\n",
       "\n",
       "    .dataframe tbody tr th {\n",
       "        vertical-align: top;\n",
       "    }\n",
       "\n",
       "    .dataframe thead th {\n",
       "        text-align: right;\n",
       "    }\n",
       "</style>\n",
       "<table border=\"1\" class=\"dataframe\">\n",
       "  <thead>\n",
       "    <tr style=\"text-align: right;\">\n",
       "      <th></th>\n",
       "      <th>RestaurentNames</th>\n",
       "      <th>Location</th>\n",
       "      <th>Rating</th>\n",
       "      <th>Review</th>\n",
       "    </tr>\n",
       "  </thead>\n",
       "  <tbody>\n",
       "    <tr>\n",
       "      <th>0</th>\n",
       "      <td>Aubree</td>\n",
       "      <td>shivajinagar</td>\n",
       "      <td>2.5</td>\n",
       "      <td>20</td>\n",
       "    </tr>\n",
       "    <tr>\n",
       "      <th>1</th>\n",
       "      <td>Uttam Sagar</td>\n",
       "      <td>banaswadi</td>\n",
       "      <td>2.6</td>\n",
       "      <td>115</td>\n",
       "    </tr>\n",
       "    <tr>\n",
       "      <th>2</th>\n",
       "      <td>Gopaljee Cafe</td>\n",
       "      <td>koramangala</td>\n",
       "      <td>3.8</td>\n",
       "      <td>69</td>\n",
       "    </tr>\n",
       "    <tr>\n",
       "      <th>3</th>\n",
       "      <td>Third Wave Coffee</td>\n",
       "      <td>lavelleroad</td>\n",
       "      <td>3.9</td>\n",
       "      <td>144</td>\n",
       "    </tr>\n",
       "    <tr>\n",
       "      <th>4</th>\n",
       "      <td>ibaco</td>\n",
       "      <td>brigade road</td>\n",
       "      <td>3.8</td>\n",
       "      <td>107</td>\n",
       "    </tr>\n",
       "  </tbody>\n",
       "</table>\n",
       "</div>"
      ],
      "text/plain": [
       "     RestaurentNames      Location  Rating  Review\n",
       "0             Aubree  shivajinagar     2.5      20\n",
       "1        Uttam Sagar     banaswadi     2.6     115\n",
       "2      Gopaljee Cafe   koramangala     3.8      69\n",
       "3  Third Wave Coffee   lavelleroad     3.9     144\n",
       "4              ibaco  brigade road     3.8     107"
      ]
     },
     "execution_count": 103,
     "metadata": {},
     "output_type": "execute_result"
    }
   ],
   "source": [
    "df.head()"
   ]
  },
  {
   "cell_type": "code",
   "execution_count": 104,
   "metadata": {},
   "outputs": [
    {
     "data": {
      "text/plain": [
       "array([2.5, 2.6, 3.8, 3.9, 3.2, 4.3, 3.6, 4.1, 4.2, 3. , nan, 4. , 4.4,\n",
       "       2.9, 3.5, 3.1, 3.7, 3.3, 2.7, 4.9, 3.4, 2.8, 4.6])"
      ]
     },
     "execution_count": 104,
     "metadata": {},
     "output_type": "execute_result"
    }
   ],
   "source": [
    "# Analyse each columns :\n",
    "df.Rating.unique()\n",
    "# Here we found that there are na values under the rating column which needs to be treated."
   ]
  },
  {
   "cell_type": "code",
   "execution_count": 105,
   "metadata": {},
   "outputs": [],
   "source": [
    "# As we can see that there are some Nan missing values, therefore we need to treat these missing values first :\n",
    "# As we can see that Rating is a float character, hence, we need to replace the na values with 0 :\n",
    "df['Rating'].fillna('0', inplace = True)"
   ]
  },
  {
   "cell_type": "code",
   "execution_count": 106,
   "metadata": {},
   "outputs": [
    {
     "name": "stdout",
     "output_type": "stream",
     "text": [
      "<class 'pandas.core.frame.DataFrame'>\n",
      "Int64Index: 119 entries, 0 to 118\n",
      "Data columns (total 4 columns):\n",
      " #   Column           Non-Null Count  Dtype \n",
      "---  ------           --------------  ----- \n",
      " 0   RestaurentNames  119 non-null    object\n",
      " 1   Location         119 non-null    object\n",
      " 2   Rating           119 non-null    object\n",
      " 3   Review           119 non-null    int64 \n",
      "dtypes: int64(1), object(3)\n",
      "memory usage: 4.6+ KB\n"
     ]
    }
   ],
   "source": [
    "# As we converted the na values with 0 since it was a numerical variable, therefore, as we can see that it returned the column as an object.\n",
    "df.info()"
   ]
  },
  {
   "cell_type": "code",
   "execution_count": 107,
   "metadata": {},
   "outputs": [],
   "source": [
    "# Rating varaible needs to be converted into a floating varaible so that we can proceed further with the analysis :\n",
    "df['Rating']= df.Rating.astype(float)"
   ]
  },
  {
   "cell_type": "code",
   "execution_count": 108,
   "metadata": {},
   "outputs": [
    {
     "name": "stdout",
     "output_type": "stream",
     "text": [
      "<class 'pandas.core.frame.DataFrame'>\n",
      "Int64Index: 119 entries, 0 to 118\n",
      "Data columns (total 4 columns):\n",
      " #   Column           Non-Null Count  Dtype  \n",
      "---  ------           --------------  -----  \n",
      " 0   RestaurentNames  119 non-null    object \n",
      " 1   Location         119 non-null    object \n",
      " 2   Rating           119 non-null    float64\n",
      " 3   Review           119 non-null    int64  \n",
      "dtypes: float64(1), int64(1), object(2)\n",
      "memory usage: 4.6+ KB\n"
     ]
    }
   ],
   "source": [
    "df.info() # We converted the Rating column into floating variable from an object."
   ]
  },
  {
   "cell_type": "code",
   "execution_count": 109,
   "metadata": {},
   "outputs": [
    {
     "data": {
      "text/plain": [
       "array([  20,  115,   69,  144,  107,  214,   51,   28, 1503,   25,  202,\n",
       "         42,  266,   31,  242,    0,  215,  958,    3,  147,   49,   24,\n",
       "         16,  569,  225,  523,   64,   62,  745,  471,   23,  301,   80,\n",
       "         75,   35,  241,  201,  344,   33,   43,   83,  395,   85,  152,\n",
       "         77,    5,  171,   68,   17,    4,  578, 1069, 1132,   22,   12,\n",
       "       2274,    6,   56,    2,  901,  417,   19,   13,  754,  650,   71,\n",
       "        111,  699, 8060,  275,  377,   11,   34,   29,  918,    1],\n",
       "      dtype=int64)"
      ]
     },
     "execution_count": 109,
     "metadata": {},
     "output_type": "execute_result"
    }
   ],
   "source": [
    "# Analyse Review Column :\n",
    "df.Review.unique()\n",
    "# As we can see that there are no missing na values under the review column so we can proceed further."
   ]
  },
  {
   "cell_type": "code",
   "execution_count": 110,
   "metadata": {},
   "outputs": [
    {
     "data": {
      "text/plain": [
       "array(['shivajinagar', 'banaswadi', 'koramangala', 'lavelleroad',\n",
       "       'brigade road', 'basavanagudi', 'rajajinagar', 'ulsoorbangalore',\n",
       "       'St Marks Road bangalore', 'infantryroad',\n",
       "       'Chickpet City bangalore', 'residencyroadbangalore',\n",
       "       'pulavcitymarketbangalore', 'mgroadbangalore',\n",
       "       'koramangala5thblock', 'magadiroadbangalore',\n",
       "       'stmarksroadbangalore', 'majesticbangalore', 'shantinagar',\n",
       "       'residencyroad', 'indiranagar', 'domlur', 'mgroad',\n",
       "       'koramangala6thblock', 'commercialstreet', 'jayanagar',\n",
       "       'cunninghamroad', 'vasanthnagar', 'seshadripuram', 'richmondroad',\n",
       "       'malleshwaram', 'mysoreroad', 'langfordtown', 'kalyannagar', 'hsr',\n",
       "       'koramangala7thblock', 'btm', 'koramangala8thblock', 'frazertown',\n",
       "       'koramangala4thblock', 'majestic', 'viharcitymarket', 'rtnagar',\n",
       "       'nagarbhavi', 'grand', 'aditya', 'krisnavaibhava',\n",
       "       'koramangala1stblock', 'uttarahalli', 'ulsoor', 'sarjapurroad',\n",
       "       'shantinagarbangalore'], dtype=object)"
      ]
     },
     "execution_count": 110,
     "metadata": {},
     "output_type": "execute_result"
    }
   ],
   "source": [
    "# Analyse Location column :\n",
    "df.Location.unique()"
   ]
  },
  {
   "cell_type": "code",
   "execution_count": 111,
   "metadata": {},
   "outputs": [
    {
     "data": {
      "text/plain": [
       "basavanagudi                14\n",
       "indiranagar                  7\n",
       "malleshwaram                 5\n",
       "majestic                     4\n",
       "rajajinagar                  4\n",
       "cunninghamroad               4\n",
       "koramangala5thblock          4\n",
       "btm                          4\n",
       "shivajinagar                 4\n",
       "brigade road                 4\n",
       "lavelleroad                  3\n",
       "vasanthnagar                 3\n",
       "mgroad                       3\n",
       "koramangala4thblock          3\n",
       "domlur                       3\n",
       "residencyroad                3\n",
       "jayanagar                    3\n",
       "infantryroad                 2\n",
       "seshadripuram                2\n",
       "koramangala6thblock          2\n",
       "frazertown                   2\n",
       "shantinagar                  2\n",
       "kalyannagar                  2\n",
       "koramangala                  2\n",
       "koramangala7thblock          2\n",
       "richmondroad                 2\n",
       "langfordtown                 1\n",
       "Chickpet City bangalore      1\n",
       "hsr                          1\n",
       "viharcitymarket              1\n",
       "shantinagarbangalore         1\n",
       "magadiroadbangalore          1\n",
       "mgroadbangalore              1\n",
       "sarjapurroad                 1\n",
       "residencyroadbangalore       1\n",
       "ulsoorbangalore              1\n",
       "uttarahalli                  1\n",
       "mysoreroad                   1\n",
       "banaswadi                    1\n",
       "nagarbhavi                   1\n",
       "stmarksroadbangalore         1\n",
       "krisnavaibhava               1\n",
       "koramangala1stblock          1\n",
       "koramangala8thblock          1\n",
       "pulavcitymarketbangalore     1\n",
       "aditya                       1\n",
       "St Marks Road bangalore      1\n",
       "grand                        1\n",
       "ulsoor                       1\n",
       "commercialstreet             1\n",
       "rtnagar                      1\n",
       "majesticbangalore            1\n",
       "Name: Location, dtype: int64"
      ]
     },
     "execution_count": 111,
     "metadata": {},
     "output_type": "execute_result"
    }
   ],
   "source": [
    "# As we can see there are a number of places from where customers place orders, therefore, \n",
    "# we need to segregate the location data ocurring in maximum number to minimum number.\n",
    "df.Location.value_counts()"
   ]
  },
  {
   "cell_type": "code",
   "execution_count": 112,
   "metadata": {},
   "outputs": [
    {
     "data": {
      "text/plain": [
       "infantryroad                2\n",
       "seshadripuram               2\n",
       "koramangala6thblock         2\n",
       "frazertown                  2\n",
       "shantinagar                 2\n",
       "kalyannagar                 2\n",
       "koramangala                 2\n",
       "koramangala7thblock         2\n",
       "richmondroad                2\n",
       "langfordtown                1\n",
       "Chickpet City bangalore     1\n",
       "hsr                         1\n",
       "viharcitymarket             1\n",
       "shantinagarbangalore        1\n",
       "magadiroadbangalore         1\n",
       "mgroadbangalore             1\n",
       "sarjapurroad                1\n",
       "residencyroadbangalore      1\n",
       "ulsoorbangalore             1\n",
       "uttarahalli                 1\n",
       "mysoreroad                  1\n",
       "banaswadi                   1\n",
       "nagarbhavi                  1\n",
       "stmarksroadbangalore        1\n",
       "krisnavaibhava              1\n",
       "koramangala1stblock         1\n",
       "koramangala8thblock         1\n",
       "pulavcitymarketbangalore    1\n",
       "aditya                      1\n",
       "St Marks Road bangalore     1\n",
       "grand                       1\n",
       "ulsoor                      1\n",
       "commercialstreet            1\n",
       "rtnagar                     1\n",
       "majesticbangalore           1\n",
       "Name: Location, dtype: int64"
      ]
     },
     "execution_count": 112,
     "metadata": {},
     "output_type": "execute_result"
    }
   ],
   "source": [
    "Location = df.Location.value_counts()\n",
    "Location_less_than_3=Location[Location<3]\n",
    "Location_less_than_3 \n",
    "# Location with lowest occurring values, i.e., customers were found to be ordering less from these particular locations.\n",
    "# These are some of the restaurents we need to focus on more and help them to encourage customers to order more on a single day."
   ]
  },
  {
   "cell_type": "code",
   "execution_count": 113,
   "metadata": {},
   "outputs": [
    {
     "data": {
      "text/plain": [
       "others                 44\n",
       "basavanagudi           14\n",
       "indiranagar             7\n",
       "malleshwaram            5\n",
       "btm                     4\n",
       "cunninghamroad          4\n",
       "koramangala5thblock     4\n",
       "brigade road            4\n",
       "rajajinagar             4\n",
       "shivajinagar            4\n",
       "majestic                4\n",
       "lavelleroad             3\n",
       "mgroad                  3\n",
       "koramangala4thblock     3\n",
       "vasanthnagar            3\n",
       "domlur                  3\n",
       "jayanagar               3\n",
       "residencyroad           3\n",
       "Name: Location, dtype: int64"
      ]
     },
     "execution_count": 113,
     "metadata": {},
     "output_type": "execute_result"
    }
   ],
   "source": [
    "# We need to classify the locations with lower order count as others and high order count with the values as given below:\n",
    "def handle_Location(value):\n",
    "    if (value in Location_less_than_3):\n",
    "        return 'others'\n",
    "    else:\n",
    "        return value\n",
    "df.Location = df.Location.apply(handle_Location)\n",
    "df.Location.value_counts()"
   ]
  },
  {
   "cell_type": "code",
   "execution_count": 114,
   "metadata": {},
   "outputs": [
    {
     "data": {
      "text/plain": [
       "array([ 1, 18,  2,  3,  4,  5,  6,  7,  8,  9, 10, 11, 12, 13, 14, 15, 16,\n",
       "       17], dtype=int64)"
      ]
     },
     "execution_count": 114,
     "metadata": {},
     "output_type": "execute_result"
    }
   ],
   "source": [
    "# Now we have to convert the Location into floating variables to proceed further with our analysis :\n",
    "def Location(x):\n",
    "    if x == 'shivajinagar':\n",
    "        return 1\n",
    "    if x == 'lavelleroad':\n",
    "        return 2\n",
    "    if x == 'brigade road':\n",
    "        return 3\n",
    "    if x == 'basavanagudi':\n",
    "        return 4\n",
    "    if x == 'rajajinagar':\n",
    "        return 5\n",
    "    if x == 'koramangala5thblock':\n",
    "        return 6\n",
    "    if x == 'residencyroad':\n",
    "        return 7\n",
    "    if x == 'indiranagar':\n",
    "        return 8\n",
    "    if x == 'domlur':\n",
    "        return 9\n",
    "    if x == 'mgroad':\n",
    "        return 10\n",
    "    if x == 'jayanagar':\n",
    "        return 11\n",
    "    if x == 'cunninghamroad':\n",
    "        return 12\n",
    "    if x == 'vasanthnagar':\n",
    "        return 13\n",
    "    if x == 'malleshwaram':\n",
    "        return 14\n",
    "    if x == 'btm':\n",
    "        return 15\n",
    "    if x == 'koramangala4thblock':\n",
    "        return 16\n",
    "    if x == 'majestic':\n",
    "        return 17\n",
    "    if x == 'others':\n",
    "        return 18\n",
    "    \n",
    "df['Location'] = df['Location'].apply(Location)\n",
    "df.Location.unique()"
   ]
  },
  {
   "cell_type": "code",
   "execution_count": 115,
   "metadata": {},
   "outputs": [],
   "source": [
    "# In order to treat the na values under Location tab, \n",
    "# we need to replace the na values with mode (most occurring value, i.e.,18 for others) as we are dealing with categorical variable.\n",
    "df['Location'].fillna('18', inplace = True)"
   ]
  },
  {
   "cell_type": "code",
   "execution_count": 116,
   "metadata": {},
   "outputs": [
    {
     "name": "stdout",
     "output_type": "stream",
     "text": [
      "<class 'pandas.core.frame.DataFrame'>\n",
      "Int64Index: 119 entries, 0 to 118\n",
      "Data columns (total 4 columns):\n",
      " #   Column           Non-Null Count  Dtype  \n",
      "---  ------           --------------  -----  \n",
      " 0   RestaurentNames  119 non-null    object \n",
      " 1   Location         119 non-null    int64  \n",
      " 2   Rating           119 non-null    float64\n",
      " 3   Review           119 non-null    int64  \n",
      "dtypes: float64(1), int64(2), object(1)\n",
      "memory usage: 4.6+ KB\n"
     ]
    }
   ],
   "source": [
    "df.info() # As we can see Location was still an object, therefore, we need to convert the location to floating/numerical variable.\n",
    "# As we have treated the na values under Location, we now have to convert the attributes to floating variables :\n",
    "df['Location']= df.Location.astype(float)"
   ]
  },
  {
   "cell_type": "code",
   "execution_count": 117,
   "metadata": {},
   "outputs": [
    {
     "data": {
      "text/plain": [
       "The Hole In The Wall Cafe    3\n",
       "Sri Udupi Grand              2\n",
       "Shyamji's Chole Bhature      2\n",
       "Theobroma                    1\n",
       "Shrinidhi Military Hotel     1\n",
       "                            ..\n",
       "Royal Restaurant             1\n",
       "Chaayos Chai+Snacks=Relax    1\n",
       "Green Cravings               1\n",
       "Ramji Chaiwale               1\n",
       "SLV Corner Restaurant        1\n",
       "Name: RestaurentNames, Length: 115, dtype: int64"
      ]
     },
     "execution_count": 117,
     "metadata": {},
     "output_type": "execute_result"
    }
   ],
   "source": [
    "# Now we will do the same segregation with the Restaurent Names column as well :\n",
    "df.RestaurentNames.value_counts()"
   ]
  },
  {
   "cell_type": "code",
   "execution_count": 118,
   "metadata": {},
   "outputs": [
    {
     "data": {
      "text/plain": [
       "Theobroma                      1\n",
       "Shrinidhi Military Hotel       1\n",
       "Asha Sweet Center              1\n",
       "Priyadarshini Restaurant       1\n",
       "Sri Bettaiah Military Hotel    1\n",
       "                              ..\n",
       "Royal Restaurant               1\n",
       "Chaayos Chai+Snacks=Relax      1\n",
       "Green Cravings                 1\n",
       "Ramji Chaiwale                 1\n",
       "SLV Corner Restaurant          1\n",
       "Name: RestaurentNames, Length: 112, dtype: int64"
      ]
     },
     "execution_count": 118,
     "metadata": {},
     "output_type": "execute_result"
    }
   ],
   "source": [
    "RestaurentNames = df.RestaurentNames.value_counts()\n",
    "RestaurentNames_less_than_2 = RestaurentNames[RestaurentNames<2]\n",
    "RestaurentNames_less_than_2"
   ]
  },
  {
   "cell_type": "code",
   "execution_count": 119,
   "metadata": {},
   "outputs": [
    {
     "data": {
      "text/plain": [
       "array(['others', 'Sri Udupi Grand', 'The Hole In The Wall Cafe',\n",
       "       \"Shyamji's Chole Bhature\"], dtype=object)"
      ]
     },
     "execution_count": 119,
     "metadata": {},
     "output_type": "execute_result"
    }
   ],
   "source": [
    "def handle_RestaurentNames(value):\n",
    "    if (value in RestaurentNames_less_than_2):\n",
    "        return 'others'\n",
    "    else:\n",
    "        return value\n",
    "df.RestaurentNames = df.RestaurentNames.apply(handle_RestaurentNames)\n",
    "df.RestaurentNames.unique()"
   ]
  },
  {
   "cell_type": "code",
   "execution_count": 120,
   "metadata": {},
   "outputs": [
    {
     "data": {
      "text/plain": [
       "array([4, 1, 2, 3], dtype=int64)"
      ]
     },
     "execution_count": 120,
     "metadata": {},
     "output_type": "execute_result"
    }
   ],
   "source": [
    "# Now we need to convert the restaurent names into numerical characters to proceed in order to do the classification for each segments :\n",
    "def RestaurentNames(x):\n",
    "    if x == \"Sri Udupi Grand\":\n",
    "        return 1\n",
    "    if x == \"The Hole In The Wall Cafe\":\n",
    "        return 2\n",
    "    if x == \"Shyamji's Chole Bhature\":\n",
    "        return 3\n",
    "    if x == \"others\":\n",
    "        return 4\n",
    "df['RestaurentNames'] = df['RestaurentNames'].apply(RestaurentNames)\n",
    "df.RestaurentNames.unique()"
   ]
  },
  {
   "cell_type": "code",
   "execution_count": 121,
   "metadata": {},
   "outputs": [
    {
     "name": "stdout",
     "output_type": "stream",
     "text": [
      "<class 'pandas.core.frame.DataFrame'>\n",
      "Int64Index: 119 entries, 0 to 118\n",
      "Data columns (total 4 columns):\n",
      " #   Column           Non-Null Count  Dtype  \n",
      "---  ------           --------------  -----  \n",
      " 0   RestaurentNames  119 non-null    float64\n",
      " 1   Location         119 non-null    float64\n",
      " 2   Rating           119 non-null    float64\n",
      " 3   Review           119 non-null    int64  \n",
      "dtypes: float64(3), int64(1)\n",
      "memory usage: 4.6 KB\n"
     ]
    }
   ],
   "source": [
    "# Now we need to convert the column Restaurent Names to floating variable :\n",
    "df['RestaurentNames']= df.RestaurentNames.astype(float)\n",
    "df.info()"
   ]
  },
  {
   "cell_type": "code",
   "execution_count": 122,
   "metadata": {},
   "outputs": [
    {
     "name": "stderr",
     "output_type": "stream",
     "text": [
      "c:\\users\\asus\\appdata\\local\\programs\\python\\python37\\lib\\site-packages\\seaborn\\_decorators.py:43: FutureWarning: Pass the following variable as a keyword arg: x. From version 0.12, the only valid positional argument will be `data`, and passing other arguments without an explicit keyword will result in an error or misinterpretation.\n",
      "  FutureWarning\n"
     ]
    },
    {
     "data": {
      "image/png": "[encoded data removed]",
      "text/plain": [
       "<Figure size 1440x576 with 1 Axes>"
      ]
     },
     "metadata": {
      "needs_background": "light"
     },
     "output_type": "display_data"
    }
   ],
   "source": [
    "# Now that we have cleaned up our data, we will do data visualization :\n",
    "plt.figure(figsize=(20,8))\n",
    "ax = sns.countplot(df['RestaurentNames'])\n",
    "plt.xticks(rotation=90)\n",
    "plt.show()\n",
    "# the given below graph shows that the locations under other category has huge opportunity to better their service delivery.\n",
    "# they can come up with combo options at reasonable prize offerings, so they can know what the customers like and how they can enhance the taste or introduce other varieties as per the customers preference.\n",
    "# We also need to find out which type of customers stay at these places with order count 1 per day :\n",
    "# which includes sarjapurroad               \n",
    "# rtnagar,ulsoor,nagarbhavi,langfordtown,stmarksroadbangalore,krisnavaibhavagrand,mgroadbangalore,mysoreroad,Chickpet City bangalore     \n",
    "# commercialstreet,shantinagarbangalore,residencyroadbangalore,viharcitymarket,adityamajesticbangalore,magadiroadbangalore         \n",
    "# koramangala1stblock,pulavcitymarketbangalore,uttarahalli,hsr,banaswadi,koramangala8thblock, so that we can introduce the kind of flavours food items of their choices.\n",
    "# Order Count -2 : infantryroad,seshadripuram,koramangala6thblock,frazertown,shantinagar,kalyannagar,koramangala,koramangala7thblock,richmondroad these restaurents were found to be ordering twice on a single day,\n",
    "# Hence we need to check what is the main food items they are ordering, and what similar dishes can be introduced at a reasonable prize along with the menu items to encourage them to order more.\n",
    "# Theobroma,Shrinidhi Military Hotel,Asha Sweet Center,Priyadarshini Restaurant,Sri Bettaiah Military Hotel,Royal Restaurant               1\n",
    "# Chaayos Chai+Snacks=Relax,Green Cravings,Ramji Chaiwale,SLV Corner Restaurant, etc were those restaurents from where customers were ordering only for once.\n"
   ]
  },
  {
   "cell_type": "code",
   "execution_count": 123,
   "metadata": {},
   "outputs": [
    {
     "name": "stderr",
     "output_type": "stream",
     "text": [
      "c:\\users\\asus\\appdata\\local\\programs\\python\\python37\\lib\\site-packages\\seaborn\\_decorators.py:43: FutureWarning: Pass the following variable as a keyword arg: x. From version 0.12, the only valid positional argument will be `data`, and passing other arguments without an explicit keyword will result in an error or misinterpretation.\n",
      "  FutureWarning\n"
     ]
    },
    {
     "data": {
      "image/png": "[encoded data removed]",
      "text/plain": [
       "<Figure size 1440x720 with 1 Axes>"
      ]
     },
     "metadata": {
      "needs_background": "light"
     },
     "output_type": "display_data"
    }
   ],
   "source": [
    "plt.figure(figsize=(20,10))\n",
    "ax = sns.countplot(df.Location)\n",
    "plt.xticks(rotation=90)\n",
    "plt.show() \n",
    "# Here we can see that the maximum number of orders are getting generated from other restaurents which hardly appear once in a single day,\n",
    "# which includes sarjapurroad               \n",
    "# rtnagar,ulsoor,nagarbhavi,langfordtown,stmarksroadbangalore,krisnavaibhavagrand,mysoreroad,Chickpet City bangalore     \n",
    "# commercialstreet,shantinagarbangalore,residencyroadbangalore,viharcitymarket,adityamajesticbangalore,magadiroadbangalore         \n",
    "# koramangala1stblock,pulavcitymarketbangalore,uttarahalli,hsr,banaswadi,koramangala8thblock, etc.\n",
    "# The maximum orders gets generated from basavanagudi, followed by Indiranagar, malleshwaram, majestic, cunninghamroad, koramangala5th block, brigade road, rajajinagar, shivajinagar, \n",
    "# and the average number of orders (3) were found to be lavelleroad,mgroad,koramangala4thblock,vasanthnagar,domlur,jayanagar,residencyroad, etc."
   ]
  },
  {
   "cell_type": "markdown",
   "metadata": {},
   "source": [
    "# Now that our data is all cleaned up, we will do some \"Data Visualization\" to answer some questions given below :\n",
    "# 1.) Which locations generate maximum orders?\n",
    "# 2.) Which locations generate highest number of reviews?\n",
    "# 3.) Identify the location with highest number of reviews?\n",
    "# 5.) Which location have poor ratings?\n",
    "# 6.) Which restaurent have poor ratings?"
   ]
  },
  {
   "cell_type": "code",
   "execution_count": 124,
   "metadata": {},
   "outputs": [
    {
     "data": {
      "text/plain": [
       "<AxesSubplot:xlabel='Location', ylabel='Rating'>"
      ]
     },
     "execution_count": 124,
     "metadata": {},
     "output_type": "execute_result"
    },
    {
     "data": {
      "image/png": "[encoded data removed]",
      "text/plain": [
       "<Figure size 1440x432 with 1 Axes>"
      ]
     },
     "metadata": {
      "needs_background": "light"
     },
     "output_type": "display_data"
    }
   ],
   "source": [
    "# Now we will try to find out which location give highest rating :\n",
    "plt.figure(figsize=(20,6))\n",
    "sns.boxplot(x= 'Location', y='Rating', data=df)\n",
    "# As we can see that the highest no of ratings are coming from koramangala 4th block(3), koramangala 5th block(4), mgroad(4), lavelleroad(3),respectively. These locations are ordering more and giving the highest ratings also possible, this shows us that teh service delivery is quite good and therefore the sales is also high. \n",
    "# and the low ratings are coming from basavanagudi,others,malleshwaram, cunningham road, etc. These areas order more however they were found giving average ratings, ranging from 0 to 3.4,0 to 4, 0 to 3.5 respectively.\n",
    "# Rest all other locations are giving average ratings may be ordering once or twice but giving average ratings.\n",
    "# Location number 9 (Domlur) didnt give any ratings as shown below,indiranagar and mg raod was more concentrated giving ratings in between 2 and 4 or more than 4,\n",
    "# Shivajinagar (2 to 3.5), brigade road ordering less however were found giving decent ratings, 3.7, rajajinagar (3.5),koramangala5th block (4.5),\n",
    "# residencyroad (1.8 to 3.4), jayanagar(1.8 to 3.7), cunninghamroad (0 to 3.5), vasanthnagar(0 to 1.8), malleshwaram(0 to 4),\n",
    "# btm(2.5 to 3.5), koramangala4th block(4 to 4.5), majestic(3.5 to 4),others ordering only once a day (concentrated between 0 to 4) "
   ]
  },
  {
   "cell_type": "code",
   "execution_count": 125,
   "metadata": {},
   "outputs": [
    {
     "data": {
      "text/plain": [
       "<AxesSubplot:xlabel='RestaurentNames', ylabel='Rating'>"
      ]
     },
     "execution_count": 125,
     "metadata": {},
     "output_type": "execute_result"
    },
    {
     "data": {
      "image/png": "[encoded data removed]",
      "text/plain": [
       "<Figure size 1440x576 with 1 Axes>"
      ]
     },
     "metadata": {
      "needs_background": "light"
     },
     "output_type": "display_data"
    }
   ],
   "source": [
    "# Now we will try to find out which restaurent names gives highest and poor ratings as below :\n",
    "plt.figure(figsize=(20,8))\n",
    "sns.boxplot(x='RestaurentNames',y ='Rating', data=df)\n",
    "# We can see that Sri Udupi Grand and Shamyji's Chole Bhature were found giving highest ratings.\n",
    "# On the other hand, the customers ordering from the hole in the wall cafe are giving average ratings, ranging from 2 to 4. \n",
    "# and the customers under others or the ones who are ordering only once or may be they are the first timers were found to be comparitively higher ratings (0 to 3.9/4.0)."
   ]
  },
  {
   "cell_type": "code",
   "execution_count": 126,
   "metadata": {},
   "outputs": [
    {
     "data": {
      "text/plain": [
       "<AxesSubplot:xlabel='RestaurentNames', ylabel='Review'>"
      ]
     },
     "execution_count": 126,
     "metadata": {},
     "output_type": "execute_result"
    },
    {
     "data": {
      "image/png": "[encoded data removed]",
      "text/plain": [
       "<Figure size 1440x576 with 1 Axes>"
      ]
     },
     "metadata": {
      "needs_background": "light"
     },
     "output_type": "display_data"
    }
   ],
   "source": [
    "# We will try to find which location or restaurent gives highest reviews :\n",
    "plt.figure(figsize=(20,8))\n",
    "sns.boxplot(x = 'RestaurentNames', y = 'Review', data=df)\n",
    "# Here we can see that the restaurentname \"The Hole in the wall cafe\" are giving more reviews but less rating, \n",
    "# Also there are significant opportunities found under the other (who are also the first timers) providing less reviews and low ratings as well.\n",
    "# So our opportunity statement lies with providing more options to the ones staing in the other location categories \n",
    "# by providing discounts along with other combo packages which will allow them to taste more and provide their valuable inputs so that the taste can be enhanced or they can work on improving their service delivery. "
   ]
  },
  {
   "cell_type": "code",
   "execution_count": 127,
   "metadata": {},
   "outputs": [
    {
     "data": {
      "text/plain": [
       "<AxesSubplot:xlabel='Location', ylabel='Review'>"
      ]
     },
     "execution_count": 127,
     "metadata": {},
     "output_type": "execute_result"
    },
    {
     "data": {
      "image/png": "[encoded data removed]",
      "text/plain": [
       "<Figure size 1440x576 with 1 Axes>"
      ]
     },
     "metadata": {
      "needs_background": "light"
     },
     "output_type": "display_data"
    }
   ],
   "source": [
    "# Now we will try to take a quick look on which restaurent provides highest rating :\n",
    "plt.figure(figsize=(20,8))\n",
    "sns.boxplot(x='Location', y='Review', data=df) \n",
    "# Location wise Koramangala 4th block gives the highest reviews which shows that the food and service delivered was far more better as compared to the other places.\n",
    "# We can see that the customers under other locations(18), malleshwaram,lavelleroad, mgroad were giving comparitively average reviews.\n",
    "# This shows that there is more opportunity in understanding the reason why the reviews are low and what can be done to improve the reviews in these locations.\n"
   ]
  },
  {
   "cell_type": "code",
   "execution_count": 128,
   "metadata": {},
   "outputs": [
    {
     "data": {
      "text/html": [
       "<div>\n",
       "<style scoped>\n",
       "    .dataframe tbody tr th:only-of-type {\n",
       "        vertical-align: middle;\n",
       "    }\n",
       "\n",
       "    .dataframe tbody tr th {\n",
       "        vertical-align: top;\n",
       "    }\n",
       "\n",
       "    .dataframe thead tr th {\n",
       "        text-align: left;\n",
       "    }\n",
       "\n",
       "    .dataframe thead tr:last-of-type th {\n",
       "        text-align: right;\n",
       "    }\n",
       "</style>\n",
       "<table border=\"1\" class=\"dataframe\">\n",
       "  <thead>\n",
       "    <tr>\n",
       "      <th></th>\n",
       "      <th colspan=\"21\" halign=\"left\">RestaurentNames</th>\n",
       "    </tr>\n",
       "    <tr>\n",
       "      <th>Rating</th>\n",
       "      <th>0.0</th>\n",
       "      <th>2.5</th>\n",
       "      <th>2.6</th>\n",
       "      <th>2.7</th>\n",
       "      <th>2.8</th>\n",
       "      <th>2.9</th>\n",
       "      <th>3.0</th>\n",
       "      <th>3.1</th>\n",
       "      <th>3.2</th>\n",
       "      <th>3.3</th>\n",
       "      <th>...</th>\n",
       "      <th>3.7</th>\n",
       "      <th>3.8</th>\n",
       "      <th>3.9</th>\n",
       "      <th>4.0</th>\n",
       "      <th>4.1</th>\n",
       "      <th>4.2</th>\n",
       "      <th>4.3</th>\n",
       "      <th>4.4</th>\n",
       "      <th>4.6</th>\n",
       "      <th>4.9</th>\n",
       "    </tr>\n",
       "    <tr>\n",
       "      <th>Location</th>\n",
       "      <th></th>\n",
       "      <th></th>\n",
       "      <th></th>\n",
       "      <th></th>\n",
       "      <th></th>\n",
       "      <th></th>\n",
       "      <th></th>\n",
       "      <th></th>\n",
       "      <th></th>\n",
       "      <th></th>\n",
       "      <th></th>\n",
       "      <th></th>\n",
       "      <th></th>\n",
       "      <th></th>\n",
       "      <th></th>\n",
       "      <th></th>\n",
       "      <th></th>\n",
       "      <th></th>\n",
       "      <th></th>\n",
       "      <th></th>\n",
       "      <th></th>\n",
       "    </tr>\n",
       "  </thead>\n",
       "  <tbody>\n",
       "    <tr>\n",
       "      <th>1.0</th>\n",
       "      <td>1</td>\n",
       "      <td>1</td>\n",
       "      <td>0</td>\n",
       "      <td>0</td>\n",
       "      <td>0</td>\n",
       "      <td>0</td>\n",
       "      <td>0</td>\n",
       "      <td>0</td>\n",
       "      <td>1</td>\n",
       "      <td>0</td>\n",
       "      <td>...</td>\n",
       "      <td>0</td>\n",
       "      <td>0</td>\n",
       "      <td>0</td>\n",
       "      <td>1</td>\n",
       "      <td>0</td>\n",
       "      <td>0</td>\n",
       "      <td>0</td>\n",
       "      <td>0</td>\n",
       "      <td>0</td>\n",
       "      <td>0</td>\n",
       "    </tr>\n",
       "    <tr>\n",
       "      <th>2.0</th>\n",
       "      <td>0</td>\n",
       "      <td>0</td>\n",
       "      <td>1</td>\n",
       "      <td>0</td>\n",
       "      <td>0</td>\n",
       "      <td>0</td>\n",
       "      <td>0</td>\n",
       "      <td>0</td>\n",
       "      <td>0</td>\n",
       "      <td>0</td>\n",
       "      <td>...</td>\n",
       "      <td>0</td>\n",
       "      <td>0</td>\n",
       "      <td>1</td>\n",
       "      <td>0</td>\n",
       "      <td>0</td>\n",
       "      <td>0</td>\n",
       "      <td>1</td>\n",
       "      <td>0</td>\n",
       "      <td>0</td>\n",
       "      <td>0</td>\n",
       "    </tr>\n",
       "    <tr>\n",
       "      <th>3.0</th>\n",
       "      <td>0</td>\n",
       "      <td>0</td>\n",
       "      <td>0</td>\n",
       "      <td>0</td>\n",
       "      <td>0</td>\n",
       "      <td>1</td>\n",
       "      <td>0</td>\n",
       "      <td>0</td>\n",
       "      <td>0</td>\n",
       "      <td>0</td>\n",
       "      <td>...</td>\n",
       "      <td>1</td>\n",
       "      <td>1</td>\n",
       "      <td>0</td>\n",
       "      <td>0</td>\n",
       "      <td>0</td>\n",
       "      <td>0</td>\n",
       "      <td>0</td>\n",
       "      <td>0</td>\n",
       "      <td>0</td>\n",
       "      <td>0</td>\n",
       "    </tr>\n",
       "    <tr>\n",
       "      <th>4.0</th>\n",
       "      <td>5</td>\n",
       "      <td>0</td>\n",
       "      <td>0</td>\n",
       "      <td>1</td>\n",
       "      <td>0</td>\n",
       "      <td>0</td>\n",
       "      <td>0</td>\n",
       "      <td>1</td>\n",
       "      <td>1</td>\n",
       "      <td>1</td>\n",
       "      <td>...</td>\n",
       "      <td>0</td>\n",
       "      <td>1</td>\n",
       "      <td>0</td>\n",
       "      <td>1</td>\n",
       "      <td>1</td>\n",
       "      <td>1</td>\n",
       "      <td>0</td>\n",
       "      <td>0</td>\n",
       "      <td>0</td>\n",
       "      <td>0</td>\n",
       "    </tr>\n",
       "    <tr>\n",
       "      <th>5.0</th>\n",
       "      <td>0</td>\n",
       "      <td>0</td>\n",
       "      <td>0</td>\n",
       "      <td>0</td>\n",
       "      <td>0</td>\n",
       "      <td>0</td>\n",
       "      <td>0</td>\n",
       "      <td>0</td>\n",
       "      <td>1</td>\n",
       "      <td>1</td>\n",
       "      <td>...</td>\n",
       "      <td>0</td>\n",
       "      <td>1</td>\n",
       "      <td>0</td>\n",
       "      <td>0</td>\n",
       "      <td>0</td>\n",
       "      <td>0</td>\n",
       "      <td>0</td>\n",
       "      <td>0</td>\n",
       "      <td>0</td>\n",
       "      <td>0</td>\n",
       "    </tr>\n",
       "    <tr>\n",
       "      <th>6.0</th>\n",
       "      <td>0</td>\n",
       "      <td>0</td>\n",
       "      <td>0</td>\n",
       "      <td>0</td>\n",
       "      <td>0</td>\n",
       "      <td>0</td>\n",
       "      <td>0</td>\n",
       "      <td>0</td>\n",
       "      <td>0</td>\n",
       "      <td>0</td>\n",
       "      <td>...</td>\n",
       "      <td>2</td>\n",
       "      <td>0</td>\n",
       "      <td>0</td>\n",
       "      <td>1</td>\n",
       "      <td>0</td>\n",
       "      <td>0</td>\n",
       "      <td>0</td>\n",
       "      <td>1</td>\n",
       "      <td>0</td>\n",
       "      <td>0</td>\n",
       "    </tr>\n",
       "    <tr>\n",
       "      <th>7.0</th>\n",
       "      <td>1</td>\n",
       "      <td>0</td>\n",
       "      <td>0</td>\n",
       "      <td>0</td>\n",
       "      <td>0</td>\n",
       "      <td>0</td>\n",
       "      <td>0</td>\n",
       "      <td>1</td>\n",
       "      <td>0</td>\n",
       "      <td>0</td>\n",
       "      <td>...</td>\n",
       "      <td>0</td>\n",
       "      <td>0</td>\n",
       "      <td>0</td>\n",
       "      <td>0</td>\n",
       "      <td>0</td>\n",
       "      <td>0</td>\n",
       "      <td>0</td>\n",
       "      <td>0</td>\n",
       "      <td>0</td>\n",
       "      <td>0</td>\n",
       "    </tr>\n",
       "    <tr>\n",
       "      <th>8.0</th>\n",
       "      <td>2</td>\n",
       "      <td>0</td>\n",
       "      <td>0</td>\n",
       "      <td>0</td>\n",
       "      <td>0</td>\n",
       "      <td>0</td>\n",
       "      <td>0</td>\n",
       "      <td>0</td>\n",
       "      <td>0</td>\n",
       "      <td>0</td>\n",
       "      <td>...</td>\n",
       "      <td>0</td>\n",
       "      <td>1</td>\n",
       "      <td>1</td>\n",
       "      <td>2</td>\n",
       "      <td>0</td>\n",
       "      <td>0</td>\n",
       "      <td>0</td>\n",
       "      <td>0</td>\n",
       "      <td>0</td>\n",
       "      <td>0</td>\n",
       "    </tr>\n",
       "    <tr>\n",
       "      <th>9.0</th>\n",
       "      <td>3</td>\n",
       "      <td>0</td>\n",
       "      <td>0</td>\n",
       "      <td>0</td>\n",
       "      <td>0</td>\n",
       "      <td>0</td>\n",
       "      <td>0</td>\n",
       "      <td>0</td>\n",
       "      <td>0</td>\n",
       "      <td>0</td>\n",
       "      <td>...</td>\n",
       "      <td>0</td>\n",
       "      <td>0</td>\n",
       "      <td>0</td>\n",
       "      <td>0</td>\n",
       "      <td>0</td>\n",
       "      <td>0</td>\n",
       "      <td>0</td>\n",
       "      <td>0</td>\n",
       "      <td>0</td>\n",
       "      <td>0</td>\n",
       "    </tr>\n",
       "    <tr>\n",
       "      <th>10.0</th>\n",
       "      <td>1</td>\n",
       "      <td>0</td>\n",
       "      <td>0</td>\n",
       "      <td>0</td>\n",
       "      <td>0</td>\n",
       "      <td>0</td>\n",
       "      <td>0</td>\n",
       "      <td>0</td>\n",
       "      <td>0</td>\n",
       "      <td>0</td>\n",
       "      <td>...</td>\n",
       "      <td>0</td>\n",
       "      <td>0</td>\n",
       "      <td>0</td>\n",
       "      <td>1</td>\n",
       "      <td>0</td>\n",
       "      <td>1</td>\n",
       "      <td>0</td>\n",
       "      <td>0</td>\n",
       "      <td>0</td>\n",
       "      <td>0</td>\n",
       "    </tr>\n",
       "    <tr>\n",
       "      <th>11.0</th>\n",
       "      <td>1</td>\n",
       "      <td>0</td>\n",
       "      <td>0</td>\n",
       "      <td>0</td>\n",
       "      <td>0</td>\n",
       "      <td>0</td>\n",
       "      <td>0</td>\n",
       "      <td>0</td>\n",
       "      <td>1</td>\n",
       "      <td>0</td>\n",
       "      <td>...</td>\n",
       "      <td>0</td>\n",
       "      <td>0</td>\n",
       "      <td>0</td>\n",
       "      <td>0</td>\n",
       "      <td>1</td>\n",
       "      <td>0</td>\n",
       "      <td>0</td>\n",
       "      <td>0</td>\n",
       "      <td>0</td>\n",
       "      <td>0</td>\n",
       "    </tr>\n",
       "    <tr>\n",
       "      <th>12.0</th>\n",
       "      <td>2</td>\n",
       "      <td>0</td>\n",
       "      <td>0</td>\n",
       "      <td>0</td>\n",
       "      <td>0</td>\n",
       "      <td>0</td>\n",
       "      <td>0</td>\n",
       "      <td>0</td>\n",
       "      <td>0</td>\n",
       "      <td>0</td>\n",
       "      <td>...</td>\n",
       "      <td>0</td>\n",
       "      <td>0</td>\n",
       "      <td>0</td>\n",
       "      <td>0</td>\n",
       "      <td>0</td>\n",
       "      <td>0</td>\n",
       "      <td>0</td>\n",
       "      <td>0</td>\n",
       "      <td>0</td>\n",
       "      <td>0</td>\n",
       "    </tr>\n",
       "    <tr>\n",
       "      <th>13.0</th>\n",
       "      <td>2</td>\n",
       "      <td>0</td>\n",
       "      <td>0</td>\n",
       "      <td>0</td>\n",
       "      <td>0</td>\n",
       "      <td>0</td>\n",
       "      <td>0</td>\n",
       "      <td>0</td>\n",
       "      <td>0</td>\n",
       "      <td>0</td>\n",
       "      <td>...</td>\n",
       "      <td>1</td>\n",
       "      <td>0</td>\n",
       "      <td>0</td>\n",
       "      <td>0</td>\n",
       "      <td>0</td>\n",
       "      <td>0</td>\n",
       "      <td>0</td>\n",
       "      <td>0</td>\n",
       "      <td>0</td>\n",
       "      <td>0</td>\n",
       "    </tr>\n",
       "    <tr>\n",
       "      <th>14.0</th>\n",
       "      <td>2</td>\n",
       "      <td>0</td>\n",
       "      <td>0</td>\n",
       "      <td>0</td>\n",
       "      <td>0</td>\n",
       "      <td>0</td>\n",
       "      <td>0</td>\n",
       "      <td>0</td>\n",
       "      <td>0</td>\n",
       "      <td>0</td>\n",
       "      <td>...</td>\n",
       "      <td>0</td>\n",
       "      <td>1</td>\n",
       "      <td>0</td>\n",
       "      <td>0</td>\n",
       "      <td>1</td>\n",
       "      <td>0</td>\n",
       "      <td>1</td>\n",
       "      <td>0</td>\n",
       "      <td>0</td>\n",
       "      <td>0</td>\n",
       "    </tr>\n",
       "    <tr>\n",
       "      <th>15.0</th>\n",
       "      <td>1</td>\n",
       "      <td>0</td>\n",
       "      <td>0</td>\n",
       "      <td>0</td>\n",
       "      <td>0</td>\n",
       "      <td>0</td>\n",
       "      <td>0</td>\n",
       "      <td>0</td>\n",
       "      <td>0</td>\n",
       "      <td>0</td>\n",
       "      <td>...</td>\n",
       "      <td>1</td>\n",
       "      <td>0</td>\n",
       "      <td>0</td>\n",
       "      <td>0</td>\n",
       "      <td>0</td>\n",
       "      <td>0</td>\n",
       "      <td>1</td>\n",
       "      <td>0</td>\n",
       "      <td>0</td>\n",
       "      <td>0</td>\n",
       "    </tr>\n",
       "    <tr>\n",
       "      <th>16.0</th>\n",
       "      <td>0</td>\n",
       "      <td>0</td>\n",
       "      <td>0</td>\n",
       "      <td>0</td>\n",
       "      <td>0</td>\n",
       "      <td>0</td>\n",
       "      <td>0</td>\n",
       "      <td>0</td>\n",
       "      <td>0</td>\n",
       "      <td>0</td>\n",
       "      <td>...</td>\n",
       "      <td>0</td>\n",
       "      <td>0</td>\n",
       "      <td>1</td>\n",
       "      <td>0</td>\n",
       "      <td>1</td>\n",
       "      <td>0</td>\n",
       "      <td>0</td>\n",
       "      <td>0</td>\n",
       "      <td>1</td>\n",
       "      <td>0</td>\n",
       "    </tr>\n",
       "    <tr>\n",
       "      <th>17.0</th>\n",
       "      <td>0</td>\n",
       "      <td>0</td>\n",
       "      <td>0</td>\n",
       "      <td>0</td>\n",
       "      <td>0</td>\n",
       "      <td>0</td>\n",
       "      <td>0</td>\n",
       "      <td>0</td>\n",
       "      <td>0</td>\n",
       "      <td>0</td>\n",
       "      <td>...</td>\n",
       "      <td>0</td>\n",
       "      <td>1</td>\n",
       "      <td>0</td>\n",
       "      <td>1</td>\n",
       "      <td>0</td>\n",
       "      <td>0</td>\n",
       "      <td>0</td>\n",
       "      <td>0</td>\n",
       "      <td>0</td>\n",
       "      <td>0</td>\n",
       "    </tr>\n",
       "    <tr>\n",
       "      <th>18.0</th>\n",
       "      <td>14</td>\n",
       "      <td>0</td>\n",
       "      <td>1</td>\n",
       "      <td>0</td>\n",
       "      <td>1</td>\n",
       "      <td>0</td>\n",
       "      <td>2</td>\n",
       "      <td>1</td>\n",
       "      <td>3</td>\n",
       "      <td>1</td>\n",
       "      <td>...</td>\n",
       "      <td>2</td>\n",
       "      <td>4</td>\n",
       "      <td>1</td>\n",
       "      <td>1</td>\n",
       "      <td>5</td>\n",
       "      <td>3</td>\n",
       "      <td>0</td>\n",
       "      <td>1</td>\n",
       "      <td>0</td>\n",
       "      <td>1</td>\n",
       "    </tr>\n",
       "  </tbody>\n",
       "</table>\n",
       "<p>18 rows × 23 columns</p>\n",
       "</div>"
      ],
      "text/plain": [
       "         RestaurentNames                                      ...              \\\n",
       "Rating               0.0 2.5 2.6 2.7 2.8 2.9 3.0 3.1 3.2 3.3  ... 3.7 3.8 3.9   \n",
       "Location                                                      ...               \n",
       "1.0                    1   1   0   0   0   0   0   0   1   0  ...   0   0   0   \n",
       "2.0                    0   0   1   0   0   0   0   0   0   0  ...   0   0   1   \n",
       "3.0                    0   0   0   0   0   1   0   0   0   0  ...   1   1   0   \n",
       "4.0                    5   0   0   1   0   0   0   1   1   1  ...   0   1   0   \n",
       "5.0                    0   0   0   0   0   0   0   0   1   1  ...   0   1   0   \n",
       "6.0                    0   0   0   0   0   0   0   0   0   0  ...   2   0   0   \n",
       "7.0                    1   0   0   0   0   0   0   1   0   0  ...   0   0   0   \n",
       "8.0                    2   0   0   0   0   0   0   0   0   0  ...   0   1   1   \n",
       "9.0                    3   0   0   0   0   0   0   0   0   0  ...   0   0   0   \n",
       "10.0                   1   0   0   0   0   0   0   0   0   0  ...   0   0   0   \n",
       "11.0                   1   0   0   0   0   0   0   0   1   0  ...   0   0   0   \n",
       "12.0                   2   0   0   0   0   0   0   0   0   0  ...   0   0   0   \n",
       "13.0                   2   0   0   0   0   0   0   0   0   0  ...   1   0   0   \n",
       "14.0                   2   0   0   0   0   0   0   0   0   0  ...   0   1   0   \n",
       "15.0                   1   0   0   0   0   0   0   0   0   0  ...   1   0   0   \n",
       "16.0                   0   0   0   0   0   0   0   0   0   0  ...   0   0   1   \n",
       "17.0                   0   0   0   0   0   0   0   0   0   0  ...   0   1   0   \n",
       "18.0                  14   0   1   0   1   0   2   1   3   1  ...   2   4   1   \n",
       "\n",
       "                                      \n",
       "Rating   4.0 4.1 4.2 4.3 4.4 4.6 4.9  \n",
       "Location                              \n",
       "1.0        1   0   0   0   0   0   0  \n",
       "2.0        0   0   0   1   0   0   0  \n",
       "3.0        0   0   0   0   0   0   0  \n",
       "4.0        1   1   1   0   0   0   0  \n",
       "5.0        0   0   0   0   0   0   0  \n",
       "6.0        1   0   0   0   1   0   0  \n",
       "7.0        0   0   0   0   0   0   0  \n",
       "8.0        2   0   0   0   0   0   0  \n",
       "9.0        0   0   0   0   0   0   0  \n",
       "10.0       1   0   1   0   0   0   0  \n",
       "11.0       0   1   0   0   0   0   0  \n",
       "12.0       0   0   0   0   0   0   0  \n",
       "13.0       0   0   0   0   0   0   0  \n",
       "14.0       0   1   0   1   0   0   0  \n",
       "15.0       0   0   0   1   0   0   0  \n",
       "16.0       0   1   0   0   0   1   0  \n",
       "17.0       1   0   0   0   0   0   0  \n",
       "18.0       1   5   3   0   1   0   1  \n",
       "\n",
       "[18 rows x 23 columns]"
      ]
     },
     "execution_count": 128,
     "metadata": {},
     "output_type": "execute_result"
    }
   ],
   "source": [
    "# Now we want to find out avaerge rating based on location, \n",
    "# then we will group the columns by using groupby function as given below :\n",
    "df1 = df.groupby(['Location', 'Rating'])['RestaurentNames'].count()\n",
    "df1.to_csv('Location_Rating.csv')\n",
    "df1=pd.read_csv('Location_Rating.csv')\n",
    "df1= pd.pivot_table(df1, values=None, index='Location',columns='Rating', fill_value=0, aggfunc=np.sum)\n",
    "df1\n",
    "# As we can see below that locations under others are more concentrated on giving 0 ratings which includes places like sarjapurroad               \n",
    "# rtnagar,ulsoor,nagarbhavi,langfordtown,stmarksroadbangalore,krisnavaibhavagrand,mgroadbangalore,mysoreroad,Chickpet City bangalore     \n",
    "# commercialstreet,shantinagarbangalore,residencyroadbangalore,viharcitymarket,adityamajesticbangalore,magadiroadbangalore         \n",
    "# koramangala1stblock,pulavcitymarketbangalore,uttarahalli,hsr,banaswadi,koramangala8thblock, etc have huge opportunity in enhancing the taste of the food or provide more options to the customers by providing combo packs at reasonable prize. \n",
    "# Basavangudi,residencyroad, indiranagar,Domlur were some places giving the worst ratings 0 and has opportunities to provide discounts, or combo packs to\n",
    "# attract customers to taste more food and provide us with good ratings, these restaurents also needs to do better their service delivery and also work on enhancing the taste of the food as well.\n",
    "# Restaurents such as Gopaljee Cafe,CakeZone,Ammas Cakes,Priyadarshini Restaurant,Third Wave Coffee,Banoffee,Vishnu Garden,Sikori                      \n",
    "# Green Cravings,The Baker's Dozen should work on providing the best quality food and service in order to get good ratings."
   ]
  }
 ],
 "metadata": {
  "kernelspec": {
   "display_name": "Python 3 (ipykernel)",
   "language": "python",
   "name": "python3"
  },
  "language_info": {
   "codemirror_mode": {
    "name": "ipython",
    "version": 3
   },
   "file_extension": ".py",
   "mimetype": "text/x-python",
   "name": "python",
   "nbconvert_exporter": "python",
   "pygments_lexer": "ipython3",
   "version": "3.9.13"
  }
 },
 "nbformat": 4,
 "nbformat_minor": 4
}
